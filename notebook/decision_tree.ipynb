{
 "cells": [
  {
   "cell_type": "code",
   "execution_count": 1,
   "metadata": {
    "collapsed": false
   },
   "outputs": [],
   "source": [
    "import numpy as np\n",
    "import pandas as pd\n",
    "import sys, pickle\n",
    "from sklearn.preprocessing import OneHotEncoder\n",
    "from sklearn.tree import DecisionTreeClassifier, export_graphviz\n",
    "from sklearn.model_selection import train_test_split, GridSearchCV"
   ]
  },
  {
   "cell_type": "markdown",
   "metadata": {},
   "source": [
    "Remove the irrelevant features or those that have repeated information such as age in age groups when age is available as a continuous variable. Recode missing values, refused to answers to '123456789', and if the answer was none as an asnwer to, for example, 'how many drinks did you have in the last 30 days?' to 0."
   ]
  },
  {
   "cell_type": "code",
   "execution_count": 2,
   "metadata": {
    "collapsed": false
   },
   "outputs": [
    {
     "name": "stderr",
     "output_type": "stream",
     "text": [
      "/home/adam/anaconda3/lib/python3.5/site-packages/IPython/core/interactiveshell.py:2717: DtypeWarning: Columns (121) have mixed types. Specify dtype option on import or set low_memory=False.\n",
      "  interactivity=interactivity, compiler=compiler, result=result)\n"
     ]
    }
   ],
   "source": [
    "brfss = pd.read_csv(\"brfss2014.csv\", index_col = 0, encoding='cp1252')\n",
    "brfss = brfss.drop(['fmonth','imonth','iday','idate','seqno','x.psu','colghous','ladult','flshtmy2','dlyother',\n",
    "                    'alcday5','rcsbirth','x.ststr','x.strwt','x.rawrake','x.wt2rake','x.dualcor','x.llcpwt2',\n",
    "                    'x.llcpwt','x.ageg5yr','x.age65yr','x.age.g','htm4','x.bmi5','x.rfbmi5','x.drnkdy4','x.smoker3',\n",
    "                   'x.rfdrhv4','x.rfdrmn4','x.rfdrwm4','x.rfseat2','x.mam502y','x.mam5021','x.rfblds3','x.col10yr',\n",
    "                   'x.cllcpwt','x.casthm1','x.ltasth1','x.mrace1'],axis=1)\n",
    "brfss = brfss.replace('NaN',123456789)\n",
    "brfss = brfss.replace([77,777,7777],123456789)\n",
    "brfss =  brfss.replace([99,999,9999], 123456789)\n",
    "brfss = brfss.replace([88,888,8888], 0)\n",
    "# keep only the recalculated or imputed variables\n"
   ]
  },
  {
   "cell_type": "markdown",
   "metadata": {},
   "source": [
    "Choose AIDS testing status (x.aidtst3) as label, its values are : 1 tested, 2 not tested, [7,9,123456789] refused, don't know and missing, respectively."
   ]
  },
  {
   "cell_type": "code",
   "execution_count": 7,
   "metadata": {
    "collapsed": false
   },
   "outputs": [
    {
     "name": "stdout",
     "output_type": "stream",
     "text": [
      "(418626, 240)\n"
     ]
    },
    {
     "data": {
      "text/plain": [
       "769.7209854125977"
      ]
     },
     "execution_count": 7,
     "metadata": {},
     "output_type": "execute_result"
    }
   ],
   "source": [
    "label_var = 'x.aidtst3'\n",
    "brfss = brfss.loc[brfss[label_var] != 9]\n",
    "brfss = brfss.loc[brfss[label_var] != 7]\n",
    "brfss = brfss.loc[brfss[label_var] != 123456789]\n",
    "label = brfss[label_var]\n",
    "print(brfss.shape)\n",
    "sys.getsizeof(brfss)/1024**2\n"
   ]
  },
  {
   "cell_type": "code",
   "execution_count": 8,
   "metadata": {
    "collapsed": false
   },
   "outputs": [
    {
     "data": {
      "text/plain": [
       "2.0    301619\n",
       "1.0    117007\n",
       "Name: x.aidtst3, dtype: int64"
      ]
     },
     "execution_count": 8,
     "metadata": {},
     "output_type": "execute_result"
    }
   ],
   "source": [
    "label.value_counts()"
   ]
  },
  {
   "cell_type": "markdown",
   "metadata": {},
   "source": [
    "Although the size of the categorical_variables data frame doesn't look very large, the encoding process was too much for my 32GB machine and doesn't fit in its memory (probably it would by looping variable-by-variable and then saving all OHE data as sparse) so we can also choose a few of the variables for further analysis"
   ]
  },
  {
   "cell_type": "code",
   "execution_count": 9,
   "metadata": {
    "collapsed": false
   },
   "outputs": [
    {
     "name": "stdout",
     "output_type": "stream",
     "text": [
      "(418626, 13)\n",
      "(418626, 20)\n"
     ]
    }
   ],
   "source": [
    "ratio_scale_variable_labels = ['sleptim1','x.age80','x.impnph','htin4','wtkg3','drocdy3.','x.drnkmo4']\n",
    "ratio_scale_variables = brfss[ratio_scale_variable_labels]\n",
    "categorical_variable_labels = ['x.imprace','x.impeduc','x.impmrtl','x.impcsex','x.asthms1','x.incomg',\n",
    "                                'x.rfseat3','x.flshot6','x.pneumo2','x.bmi5cat','x.rfmam2y','x.denvst2','x.rfsmok3']\n",
    "categorical_variables = brfss[categorical_variable_labels].astype('int64')\n",
    "print(categorical_variables.shape)\n",
    "variables = pd.concat([categorical_variables, ratio_scale_variables], axis = 1)\n",
    "print(variables.shape)"
   ]
  },
  {
   "cell_type": "markdown",
   "metadata": {},
   "source": [
    "Now, it must be small enough for further processing."
   ]
  },
  {
   "cell_type": "code",
   "execution_count": 10,
   "metadata": {
    "collapsed": false
   },
   "outputs": [
    {
     "data": {
      "text/plain": [
       "44.71410369873047"
      ]
     },
     "execution_count": 10,
     "metadata": {},
     "output_type": "execute_result"
    }
   ],
   "source": [
    "sys.getsizeof(categorical_variables)/1024**2"
   ]
  },
  {
   "cell_type": "markdown",
   "metadata": {},
   "source": [
    "The first 13 features are categorical, the remaining 7 are on interval/ratio scale."
   ]
  },
  {
   "cell_type": "code",
   "execution_count": 11,
   "metadata": {
    "collapsed": false
   },
   "outputs": [],
   "source": [
    "ohe = OneHotEncoder(categorical_features = range(13))\n",
    "ohe_variables = ohe.fit_transform(variables)"
   ]
  },
  {
   "cell_type": "markdown",
   "metadata": {},
   "source": [
    "Get back the feature names for plotting the tree"
   ]
  },
  {
   "cell_type": "code",
   "execution_count": 12,
   "metadata": {
    "collapsed": false
   },
   "outputs": [],
   "source": [
    "uniq_vals = categorical_variables.apply(lambda x: x.value_counts()).unstack()\n",
    "uniq_vals = uniq_vals[~uniq_vals.isnull()]\n",
    "categorical_ohe_feature_labels = list(uniq_vals.index.map('{0[0]}_{0[1]}'.format))\n",
    "feature_names = np.hstack([categorical_ohe_feature_labels, ratio_scale_variable_labels])"
   ]
  },
  {
   "cell_type": "markdown",
   "metadata": {},
   "source": [
    "Split the data to 0.67 training, 0.33 test sets"
   ]
  },
  {
   "cell_type": "code",
   "execution_count": 13,
   "metadata": {
    "collapsed": false
   },
   "outputs": [],
   "source": [
    "X_train, X_test, y_train, y_test = train_test_split(ohe_variables, label, test_size=0.33, random_state=1234)"
   ]
  },
  {
   "cell_type": "markdown",
   "metadata": {},
   "source": [
    "## Run: Fit a 5-levels deep decision tree"
   ]
  },
  {
   "cell_type": "code",
   "execution_count": 14,
   "metadata": {
    "collapsed": true
   },
   "outputs": [],
   "source": [
    "clf = DecisionTreeClassifier(class_weight=None, criterion='gini', max_depth=5,\n",
    "            max_features=61, max_leaf_nodes=None, min_impurity_split=1e-07,\n",
    "            min_samples_leaf=25, min_samples_split=100,\n",
    "            min_weight_fraction_leaf=0.0, presort=False, random_state=123,\n",
    "            splitter='best')"
   ]
  },
  {
   "cell_type": "code",
   "execution_count": 15,
   "metadata": {
    "collapsed": false
   },
   "outputs": [],
   "source": [
    "clf.fit(X_train, y_train)\n",
    "export_graphviz(clf, out_file = 'tree.dot', feature_names = feature_names, class_names = ['tested','not-tested'],\n",
    "               rounded =  True, filled = True)\n",
    "!dot -Tpng tree.dot -o tree.png  "
   ]
  },
  {
   "cell_type": "code",
   "execution_count": 17,
   "metadata": {
    "collapsed": false
   },
   "outputs": [],
   "source": [
    "pickle.dump(clf, open('decision_tree_AIDS_5lvl.pickle','wb'))"
   ]
  },
  {
   "cell_type": "markdown",
   "metadata": {},
   "source": [
    "## Not run: find optimal tree parameters by cross-validation"
   ]
  },
  {
   "cell_type": "code",
   "execution_count": null,
   "metadata": {
    "collapsed": false
   },
   "outputs": [
    {
     "name": "stdout",
     "output_type": "stream",
     "text": [
      "Fitting 10 folds for each of 1200 candidates, totalling 12000 fits\n"
     ]
    },
    {
     "name": "stderr",
     "output_type": "stream",
     "text": [
      "[Parallel(n_jobs=4)]: Done  42 tasks      | elapsed:    8.1s\n",
      "Process ForkPoolWorker-4:\n",
      "Traceback (most recent call last):\n",
      "  File \"/home/adam/anaconda3/lib/python3.5/multiprocessing/process.py\", line 252, in _bootstrap\n",
      "    self.run()\n",
      "  File \"/home/adam/anaconda3/lib/python3.5/multiprocessing/process.py\", line 93, in run\n",
      "    self._target(*self._args, **self._kwargs)\n",
      "  File \"/home/adam/anaconda3/lib/python3.5/multiprocessing/pool.py\", line 108, in worker\n",
      "    task = get()\n"
     ]
    }
   ],
   "source": [
    "clf = DecisionTreeClassifier(random_state=123)\n",
    "params = {'max_depth':[3,4,5,10,12,15], 'min_samples_split':[2,5,10,50,100], 'min_samples_leaf':[1,5,10,25],\n",
    "          'max_features':[5,10,20,30,61], 'class_weight':[None,'balanced']}\n",
    "gd = GridSearchCV(clf, params, cv = 10, verbose = 1, n_jobs = 4)\n",
    "gd.fit(X_train, y_train)"
   ]
  },
  {
   "cell_type": "code",
   "execution_count": 10,
   "metadata": {
    "collapsed": false
   },
   "outputs": [
    {
     "data": {
      "text/plain": [
       "DecisionTreeClassifier(class_weight=None, criterion='gini', max_depth=12,\n",
       "            max_features=61, max_leaf_nodes=None, min_impurity_split=1e-07,\n",
       "            min_samples_leaf=25, min_samples_split=100,\n",
       "            min_weight_fraction_leaf=0.0, presort=False, random_state=123,\n",
       "            splitter='best')"
      ]
     },
     "execution_count": 10,
     "metadata": {},
     "output_type": "execute_result"
    }
   ],
   "source": [
    "gd.best_estimator_"
   ]
  },
  {
   "cell_type": "code",
   "execution_count": 11,
   "metadata": {
    "collapsed": false
   },
   "outputs": [
    {
     "data": {
      "text/plain": [
       "0.85416975163222719"
      ]
     },
     "execution_count": 11,
     "metadata": {},
     "output_type": "execute_result"
    }
   ],
   "source": [
    "gd.best_score_"
   ]
  },
  {
   "cell_type": "code",
   "execution_count": 12,
   "metadata": {
    "collapsed": false
   },
   "outputs": [
    {
     "data": {
      "text/plain": [
       "DecisionTreeClassifier(class_weight=None, criterion='gini', max_depth=12,\n",
       "            max_features=61, max_leaf_nodes=None, min_impurity_split=1e-07,\n",
       "            min_samples_leaf=25, min_samples_split=100,\n",
       "            min_weight_fraction_leaf=0.0, presort=False, random_state=123,\n",
       "            splitter='best')"
      ]
     },
     "execution_count": 12,
     "metadata": {},
     "output_type": "execute_result"
    }
   ],
   "source": [
    "clf_best = gd.best_estimator_\n",
    "clf_best.fit(X_train, y_train)"
   ]
  }
 ],
 "metadata": {
  "anaconda-cloud": {},
  "kernelspec": {
   "display_name": "Python [conda root]",
   "language": "python",
   "name": "conda-root-py"
  },
  "language_info": {
   "codemirror_mode": {
    "name": "ipython",
    "version": 3
   },
   "file_extension": ".py",
   "mimetype": "text/x-python",
   "name": "python",
   "nbconvert_exporter": "python",
   "pygments_lexer": "ipython3",
   "version": "3.5.4"
  }
 },
 "nbformat": 4,
 "nbformat_minor": 2
}
